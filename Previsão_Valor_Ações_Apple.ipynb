{
  "nbformat": 4,
  "nbformat_minor": 0,
  "metadata": {
    "colab": {
      "name": "Previsão_Valor_Ações_Apple.ipynb",
      "provenance": [],
      "collapsed_sections": [],
      "include_colab_link": true
    },
    "kernelspec": {
      "name": "python3",
      "display_name": "Python 3"
    },
    "accelerator": "GPU"
  },
  "cells": [
    {
      "cell_type": "markdown",
      "metadata": {
        "id": "view-in-github",
        "colab_type": "text"
      },
      "source": [
        "<a href=\"https://colab.research.google.com/github/ewerton-andrade/previsao-abertura-apple/blob/main/Previs%C3%A3o_Valor_A%C3%A7%C3%B5es_Apple.ipynb\" target=\"_parent\"><img src=\"https://colab.research.google.com/assets/colab-badge.svg\" alt=\"Open In Colab\"/></a>"
      ]
    },
    {
      "cell_type": "markdown",
      "metadata": {
        "id": "HdQtNOCXeHfN"
      },
      "source": [
        "# **ESTUDO DE CASO NO MERCADO FINANCEIRO**"
      ]
    },
    {
      "cell_type": "markdown",
      "metadata": {
        "id": "qfVpurTtgQFH"
      },
      "source": [
        "## Proposta do projeto: Previsão do preço de abertura das ações da apple.\n",
        "\n",
        "#### Um dos parâmetros utilizados e registrados envolvendo ações dentro do mercado financeiro é o preço de abertura de uma ação. Esse valor de abertura é o preço da primeira transação do dia envolvendo uma ação específica. O projeto que veremos a seguir utiliza esse dado como base para previsão do preço de abertura das ações da apple.\n",
        "\n",
        "#### Esse projeto é um exemplo de aplicação da Ciência de dados no mercado financeiro. É possível utilizar modelos que ajudem a prever o valor de uma ação. \n",
        "\n",
        "#### Em específico, vou produzir um modelo através de redes neurais recorrentes por meio do framework Keras para fazer essa previsão."
      ]
    },
    {
      "cell_type": "markdown",
      "metadata": {
        "id": "N_adnWz8if2W"
      },
      "source": [
        "## Bibliotecas utilizadas para o projeto:\n",
        "\n",
        "###python 3.7.12\n",
        "###numpy 1.19.5\n",
        "###pandas 1.1.5\n",
        "###matplotlib 3.2.2\n",
        "###sklearn 1.0.1\n",
        "###keras 2.7.0"
      ]
    },
    {
      "cell_type": "markdown",
      "metadata": {
        "id": "Nav3p_Co2ZS2"
      },
      "source": [
        "## Começando\n",
        "\n",
        "### Dicionário dos atributos do dataset:\n",
        "\n",
        "* **Date**: Data da amostra\n",
        "* **Open**: Preço da primeira transação efetuada durante o dia.\n",
        "* **High**: Preço máximo de transação efetuada no dia.\n",
        "* **Low**: Preço mínimo de transação efetuada no dia.\n",
        "* **Close**: Preço da última transação efetuada no dia.\n",
        "* **Adj Close**: Preço de fechamento ajustado para refletir o valor após a contabilização de quaisquer ações corporativas.\n",
        "* **Volume**: Número de unidades de ações vendidas em um dia."
      ]
    },
    {
      "cell_type": "markdown",
      "metadata": {
        "id": "W7xMH5rRUukZ"
      },
      "source": [
        "## **Import de bibliotecas**"
      ]
    },
    {
      "cell_type": "code",
      "metadata": {
        "id": "lMDuEpeJLv0I"
      },
      "source": [
        "import numpy as np  # biblioteca utilizada para tratar com número/vetores/matrizes\n",
        "import matplotlib.pyplot as plt # utilizada para plotar gráficos ao \"estilo\" matlab\n",
        "import pandas as pd #biblioteca utilizada para realizar operações sobre dataframes"
      ],
      "execution_count": null,
      "outputs": []
    },
    {
      "cell_type": "markdown",
      "metadata": {
        "id": "tOKGewyyUypI"
      },
      "source": [
        "## **Carregando os dados**"
      ]
    },
    {
      "cell_type": "code",
      "metadata": {
        "id": "CUVNQV0G63X_",
        "colab": {
          "base_uri": "https://localhost:8080/"
        },
        "outputId": "8d890980-2a2e-49d1-efd9-e2d94eec39d4"
      },
      "source": [
        "#Carregando os dados direto do google drive\n",
        "from google.colab import drive\n",
        "drive.mount('/content/drive')"
      ],
      "execution_count": null,
      "outputs": [
        {
          "output_type": "stream",
          "name": "stdout",
          "text": [
            "Drive already mounted at /content/drive; to attempt to forcibly remount, call drive.mount(\"/content/drive\", force_remount=True).\n"
          ]
        }
      ]
    },
    {
      "cell_type": "code",
      "metadata": {
        "colab": {
          "base_uri": "https://localhost:8080/",
          "height": 423
        },
        "id": "yIaO0vf46KPn",
        "outputId": "3273254f-614f-4f26-bebe-c6b37b259275"
      },
      "source": [
        "#Carregando os dados (Obs: É mais fácil fazer o uploado do arquivo para o colab)\n",
        "data = pd.read_csv('/content/drive/MyDrive/Colab Notebooks/Data_Science_Projects/PREVISÃO VALOR AÇÕES APPLE (ABERTURA)/AAPL.csv') #carregar o arquivo csv para leitura pandas\n",
        "data"
      ],
      "execution_count": null,
      "outputs": [
        {
          "output_type": "execute_result",
          "data": {
            "text/html": [
              "<div>\n",
              "<style scoped>\n",
              "    .dataframe tbody tr th:only-of-type {\n",
              "        vertical-align: middle;\n",
              "    }\n",
              "\n",
              "    .dataframe tbody tr th {\n",
              "        vertical-align: top;\n",
              "    }\n",
              "\n",
              "    .dataframe thead th {\n",
              "        text-align: right;\n",
              "    }\n",
              "</style>\n",
              "<table border=\"1\" class=\"dataframe\">\n",
              "  <thead>\n",
              "    <tr style=\"text-align: right;\">\n",
              "      <th></th>\n",
              "      <th>Date</th>\n",
              "      <th>Open</th>\n",
              "      <th>High</th>\n",
              "      <th>Low</th>\n",
              "      <th>Close</th>\n",
              "      <th>Adj Close</th>\n",
              "      <th>Volume</th>\n",
              "    </tr>\n",
              "  </thead>\n",
              "  <tbody>\n",
              "    <tr>\n",
              "      <th>0</th>\n",
              "      <td>1980-12-12</td>\n",
              "      <td>0.128348</td>\n",
              "      <td>0.128906</td>\n",
              "      <td>0.128348</td>\n",
              "      <td>0.128348</td>\n",
              "      <td>0.100600</td>\n",
              "      <td>469033600</td>\n",
              "    </tr>\n",
              "    <tr>\n",
              "      <th>1</th>\n",
              "      <td>1980-12-15</td>\n",
              "      <td>0.122210</td>\n",
              "      <td>0.122210</td>\n",
              "      <td>0.121652</td>\n",
              "      <td>0.121652</td>\n",
              "      <td>0.095352</td>\n",
              "      <td>175884800</td>\n",
              "    </tr>\n",
              "    <tr>\n",
              "      <th>2</th>\n",
              "      <td>1980-12-16</td>\n",
              "      <td>0.113281</td>\n",
              "      <td>0.113281</td>\n",
              "      <td>0.112723</td>\n",
              "      <td>0.112723</td>\n",
              "      <td>0.088353</td>\n",
              "      <td>105728000</td>\n",
              "    </tr>\n",
              "    <tr>\n",
              "      <th>3</th>\n",
              "      <td>1980-12-17</td>\n",
              "      <td>0.115513</td>\n",
              "      <td>0.116071</td>\n",
              "      <td>0.115513</td>\n",
              "      <td>0.115513</td>\n",
              "      <td>0.090540</td>\n",
              "      <td>86441600</td>\n",
              "    </tr>\n",
              "    <tr>\n",
              "      <th>4</th>\n",
              "      <td>1980-12-18</td>\n",
              "      <td>0.118862</td>\n",
              "      <td>0.119420</td>\n",
              "      <td>0.118862</td>\n",
              "      <td>0.118862</td>\n",
              "      <td>0.093165</td>\n",
              "      <td>73449600</td>\n",
              "    </tr>\n",
              "    <tr>\n",
              "      <th>...</th>\n",
              "      <td>...</td>\n",
              "      <td>...</td>\n",
              "      <td>...</td>\n",
              "      <td>...</td>\n",
              "      <td>...</td>\n",
              "      <td>...</td>\n",
              "      <td>...</td>\n",
              "    </tr>\n",
              "    <tr>\n",
              "      <th>10304</th>\n",
              "      <td>2021-10-25</td>\n",
              "      <td>148.679993</td>\n",
              "      <td>149.369995</td>\n",
              "      <td>147.619995</td>\n",
              "      <td>148.639999</td>\n",
              "      <td>148.639999</td>\n",
              "      <td>50720600</td>\n",
              "    </tr>\n",
              "    <tr>\n",
              "      <th>10305</th>\n",
              "      <td>2021-10-26</td>\n",
              "      <td>149.330002</td>\n",
              "      <td>150.839996</td>\n",
              "      <td>149.009995</td>\n",
              "      <td>149.320007</td>\n",
              "      <td>149.320007</td>\n",
              "      <td>60893400</td>\n",
              "    </tr>\n",
              "    <tr>\n",
              "      <th>10306</th>\n",
              "      <td>2021-10-27</td>\n",
              "      <td>149.360001</td>\n",
              "      <td>149.729996</td>\n",
              "      <td>148.490005</td>\n",
              "      <td>148.850006</td>\n",
              "      <td>148.850006</td>\n",
              "      <td>56094900</td>\n",
              "    </tr>\n",
              "    <tr>\n",
              "      <th>10307</th>\n",
              "      <td>2021-10-28</td>\n",
              "      <td>149.820007</td>\n",
              "      <td>153.169998</td>\n",
              "      <td>149.720001</td>\n",
              "      <td>152.570007</td>\n",
              "      <td>152.570007</td>\n",
              "      <td>100077900</td>\n",
              "    </tr>\n",
              "    <tr>\n",
              "      <th>10308</th>\n",
              "      <td>2021-10-29</td>\n",
              "      <td>147.220001</td>\n",
              "      <td>149.940002</td>\n",
              "      <td>146.410004</td>\n",
              "      <td>149.800003</td>\n",
              "      <td>149.800003</td>\n",
              "      <td>124850400</td>\n",
              "    </tr>\n",
              "  </tbody>\n",
              "</table>\n",
              "<p>10309 rows × 7 columns</p>\n",
              "</div>"
            ],
            "text/plain": [
              "             Date        Open        High  ...       Close   Adj Close     Volume\n",
              "0      1980-12-12    0.128348    0.128906  ...    0.128348    0.100600  469033600\n",
              "1      1980-12-15    0.122210    0.122210  ...    0.121652    0.095352  175884800\n",
              "2      1980-12-16    0.113281    0.113281  ...    0.112723    0.088353  105728000\n",
              "3      1980-12-17    0.115513    0.116071  ...    0.115513    0.090540   86441600\n",
              "4      1980-12-18    0.118862    0.119420  ...    0.118862    0.093165   73449600\n",
              "...           ...         ...         ...  ...         ...         ...        ...\n",
              "10304  2021-10-25  148.679993  149.369995  ...  148.639999  148.639999   50720600\n",
              "10305  2021-10-26  149.330002  150.839996  ...  149.320007  149.320007   60893400\n",
              "10306  2021-10-27  149.360001  149.729996  ...  148.850006  148.850006   56094900\n",
              "10307  2021-10-28  149.820007  153.169998  ...  152.570007  152.570007  100077900\n",
              "10308  2021-10-29  147.220001  149.940002  ...  149.800003  149.800003  124850400\n",
              "\n",
              "[10309 rows x 7 columns]"
            ]
          },
          "metadata": {},
          "execution_count": 34
        }
      ]
    },
    {
      "cell_type": "markdown",
      "metadata": {
        "id": "uag4NCX2VDB6"
      },
      "source": [
        "## **Análise exploratória de dados**"
      ]
    },
    {
      "cell_type": "code",
      "metadata": {
        "id": "xksBCxFcPpAX",
        "colab": {
          "base_uri": "https://localhost:8080/",
          "height": 206
        },
        "outputId": "976564f6-4235-4c45-922c-992a204ec548"
      },
      "source": [
        "data.head() #comando utilizado para mostrar as 5 primeiras colunas do dataframe"
      ],
      "execution_count": null,
      "outputs": [
        {
          "output_type": "execute_result",
          "data": {
            "text/html": [
              "<div>\n",
              "<style scoped>\n",
              "    .dataframe tbody tr th:only-of-type {\n",
              "        vertical-align: middle;\n",
              "    }\n",
              "\n",
              "    .dataframe tbody tr th {\n",
              "        vertical-align: top;\n",
              "    }\n",
              "\n",
              "    .dataframe thead th {\n",
              "        text-align: right;\n",
              "    }\n",
              "</style>\n",
              "<table border=\"1\" class=\"dataframe\">\n",
              "  <thead>\n",
              "    <tr style=\"text-align: right;\">\n",
              "      <th></th>\n",
              "      <th>Date</th>\n",
              "      <th>Open</th>\n",
              "      <th>High</th>\n",
              "      <th>Low</th>\n",
              "      <th>Close</th>\n",
              "      <th>Adj Close</th>\n",
              "      <th>Volume</th>\n",
              "    </tr>\n",
              "  </thead>\n",
              "  <tbody>\n",
              "    <tr>\n",
              "      <th>0</th>\n",
              "      <td>1980-12-12</td>\n",
              "      <td>0.128348</td>\n",
              "      <td>0.128906</td>\n",
              "      <td>0.128348</td>\n",
              "      <td>0.128348</td>\n",
              "      <td>0.100600</td>\n",
              "      <td>469033600</td>\n",
              "    </tr>\n",
              "    <tr>\n",
              "      <th>1</th>\n",
              "      <td>1980-12-15</td>\n",
              "      <td>0.122210</td>\n",
              "      <td>0.122210</td>\n",
              "      <td>0.121652</td>\n",
              "      <td>0.121652</td>\n",
              "      <td>0.095352</td>\n",
              "      <td>175884800</td>\n",
              "    </tr>\n",
              "    <tr>\n",
              "      <th>2</th>\n",
              "      <td>1980-12-16</td>\n",
              "      <td>0.113281</td>\n",
              "      <td>0.113281</td>\n",
              "      <td>0.112723</td>\n",
              "      <td>0.112723</td>\n",
              "      <td>0.088353</td>\n",
              "      <td>105728000</td>\n",
              "    </tr>\n",
              "    <tr>\n",
              "      <th>3</th>\n",
              "      <td>1980-12-17</td>\n",
              "      <td>0.115513</td>\n",
              "      <td>0.116071</td>\n",
              "      <td>0.115513</td>\n",
              "      <td>0.115513</td>\n",
              "      <td>0.090540</td>\n",
              "      <td>86441600</td>\n",
              "    </tr>\n",
              "    <tr>\n",
              "      <th>4</th>\n",
              "      <td>1980-12-18</td>\n",
              "      <td>0.118862</td>\n",
              "      <td>0.119420</td>\n",
              "      <td>0.118862</td>\n",
              "      <td>0.118862</td>\n",
              "      <td>0.093165</td>\n",
              "      <td>73449600</td>\n",
              "    </tr>\n",
              "  </tbody>\n",
              "</table>\n",
              "</div>"
            ],
            "text/plain": [
              "         Date      Open      High       Low     Close  Adj Close     Volume\n",
              "0  1980-12-12  0.128348  0.128906  0.128348  0.128348   0.100600  469033600\n",
              "1  1980-12-15  0.122210  0.122210  0.121652  0.121652   0.095352  175884800\n",
              "2  1980-12-16  0.113281  0.113281  0.112723  0.112723   0.088353  105728000\n",
              "3  1980-12-17  0.115513  0.116071  0.115513  0.115513   0.090540   86441600\n",
              "4  1980-12-18  0.118862  0.119420  0.118862  0.118862   0.093165   73449600"
            ]
          },
          "metadata": {},
          "execution_count": 35
        }
      ]
    },
    {
      "cell_type": "code",
      "metadata": {
        "colab": {
          "base_uri": "https://localhost:8080/"
        },
        "id": "AgQ2ew2Z-_EX",
        "outputId": "aef25641-0742-4092-9972-d194254e4334"
      },
      "source": [
        "data.info() #verificando algumas características gerais do DataFrame"
      ],
      "execution_count": null,
      "outputs": [
        {
          "output_type": "stream",
          "name": "stdout",
          "text": [
            "<class 'pandas.core.frame.DataFrame'>\n",
            "RangeIndex: 10309 entries, 0 to 10308\n",
            "Data columns (total 7 columns):\n",
            " #   Column     Non-Null Count  Dtype  \n",
            "---  ------     --------------  -----  \n",
            " 0   Date       10309 non-null  object \n",
            " 1   Open       10309 non-null  float64\n",
            " 2   High       10309 non-null  float64\n",
            " 3   Low        10309 non-null  float64\n",
            " 4   Close      10309 non-null  float64\n",
            " 5   Adj Close  10309 non-null  float64\n",
            " 6   Volume     10309 non-null  int64  \n",
            "dtypes: float64(5), int64(1), object(1)\n",
            "memory usage: 563.9+ KB\n"
          ]
        }
      ]
    },
    {
      "cell_type": "markdown",
      "metadata": {
        "id": "bLIoBgrFBTsY"
      },
      "source": [
        "## Observações\n",
        "\n",
        "## Temos no total um DataSet com 10.309 amostras e 7 atributos (Ver dicionário de atributos no início desse projeto). \n",
        "\n",
        "## Não temos nenhum valor nulo em nenhum dos atributos. Todas as amostras estão presentes. O atributo Date está como tipo objeto, talvez seja necessário mudar para o tipo datetime."
      ]
    },
    {
      "cell_type": "code",
      "metadata": {
        "id": "VLUdIjnWPxRb",
        "colab": {
          "base_uri": "https://localhost:8080/",
          "height": 296
        },
        "outputId": "93e554d5-33a3-4920-dff1-e197e544d4d5"
      },
      "source": [
        "#Gráfico em linha preço (eixo y) e data (eixo x)\n",
        "plt.plot(data[\"Date\"],data[\"Open\"]) #set de dados eixo x e y, respctivamente\n",
        "plt.ylabel(\"Preço\") #set de label para o eixo y\n",
        "plt.xlabel(\"Data\") #set de label para o eixo x"
      ],
      "execution_count": null,
      "outputs": [
        {
          "output_type": "execute_result",
          "data": {
            "text/plain": [
              "Text(0.5, 0, 'Data')"
            ]
          },
          "metadata": {},
          "execution_count": 37
        },
        {
          "output_type": "display_data",
          "data": {
            "image/png": "[encoded data removed]",
            "text/plain": [
              "<Figure size 432x288 with 1 Axes>"
            ]
          },
          "metadata": {
            "needs_background": "light"
          }
        }
      ]
    },
    {
      "cell_type": "markdown",
      "metadata": {
        "id": "ts3000EkVr81"
      },
      "source": [
        "## Vemos que o preço de abertura das ações da apple se mantiveram praticamente constante até um certo ponto e depois de algum tempo obtivemos valorizações que formam quase que um vestígio de função exponencial."
      ]
    },
    {
      "cell_type": "markdown",
      "metadata": {
        "id": "cMRRc38QWAEc"
      },
      "source": [
        "## **Verificando outliers**"
      ]
    },
    {
      "cell_type": "code",
      "metadata": {
        "id": "ZExe9XlurEBH",
        "colab": {
          "base_uri": "https://localhost:8080/",
          "height": 282
        },
        "outputId": "c447fa7b-8a98-40b5-c95c-14de020e92cc"
      },
      "source": [
        "#comando utilizado para gerar o boxplot\n",
        "data.boxplot(column='Open')\n",
        "\n",
        "# Obs: boxplot é empregado na estatística para ver se existem outlier's \n",
        "#nos nossos dados, caso haja, há dados que se concentram fora dos limites\n",
        "#do gráfico."
      ],
      "execution_count": null,
      "outputs": [
        {
          "output_type": "execute_result",
          "data": {
            "text/plain": [
              "<matplotlib.axes._subplots.AxesSubplot at 0x7fed6f1e2550>"
            ]
          },
          "metadata": {},
          "execution_count": 38
        },
        {
          "output_type": "display_data",
          "data": {
            "image/png": "[encoded data removed]",
            "text/plain": [
              "<Figure size 432x288 with 1 Axes>"
            ]
          },
          "metadata": {
            "needs_background": "light"
          }
        }
      ]
    },
    {
      "cell_type": "markdown",
      "metadata": {
        "id": "hGEYqmjV-Xty"
      },
      "source": [
        "## Observação: No caso acima temos uma progressão real de valores de ações na bolsa. Estatisticamente falando, na teoria, alguns valores deveriam ser considerados outliers, porém, esses dados referem-se a aumentos reais em um relativo curto período tempo."
      ]
    },
    {
      "cell_type": "markdown",
      "metadata": {
        "id": "sJut2E_iWJKb"
      },
      "source": [
        "## **Pré-Processamento de dados**"
      ]
    },
    {
      "cell_type": "code",
      "metadata": {
        "id": "VjdjnXa7QnOB",
        "colab": {
          "base_uri": "https://localhost:8080/"
        },
        "outputId": "1ca8d361-b66b-42a8-fbe9-30b07622aa59"
      },
      "source": [
        "#preparando os dados para a entrada\n",
        "entradas=data.iloc[:,1:2].values # retira do dataframe apenas a coluna relativa ao preço de abertura das ações\n",
        "entradas[:5] #utilizada para realiar um print apenas das 5 primeiras linhas (pode ser visto que esse é um array, não um dataframe)"
      ],
      "execution_count": null,
      "outputs": [
        {
          "output_type": "execute_result",
          "data": {
            "text/plain": [
              "array([[0.128348],\n",
              "       [0.12221 ],\n",
              "       [0.113281],\n",
              "       [0.115513],\n",
              "       [0.118862]])"
            ]
          },
          "metadata": {},
          "execution_count": 39
        }
      ]
    },
    {
      "cell_type": "markdown",
      "metadata": {
        "id": "hWriDt6eWQPf"
      },
      "source": [
        "## **Normalização de dados**"
      ]
    },
    {
      "cell_type": "code",
      "metadata": {
        "id": "PsB8un-eafmg"
      },
      "source": [
        "#normalizando os dados (os algoritmos de ML, em geral, não trabalham bem com dados em escalas diferentes)\n",
        "from sklearn.preprocessing import MinMaxScaler  #biblioteca utilizada para realizar o preprocessamento dos dados\n",
        "scaler = MinMaxScaler(feature_range = (0, 1))    #cria o objeto que será utilizado para realizar a normalização dos dados\n",
        "                                                 # feaure_range = define o intervalo de escala dos dados\n",
        "\n",
        "dados_normalizados = scaler.fit_transform(entradas)  # aplica o método de transformação dos dados"
      ],
      "execution_count": null,
      "outputs": []
    },
    {
      "cell_type": "code",
      "metadata": {
        "id": "q4ZhQIZ3b3Sl",
        "colab": {
          "base_uri": "https://localhost:8080/"
        },
        "outputId": "af84c90d-70e8-482b-e015-49b09df05387"
      },
      "source": [
        "#Print das cinco primeiras linhas dos dados normalizados\n",
        "dados_normalizados[:5]"
      ],
      "execution_count": null,
      "outputs": [
        {
          "output_type": "execute_result",
          "data": {
            "text/plain": [
              "array([[0.00050139],\n",
              "       [0.00046228],\n",
              "       [0.00040538],\n",
              "       [0.0004196 ],\n",
              "       [0.00044094]])"
            ]
          },
          "metadata": {},
          "execution_count": 41
        }
      ]
    },
    {
      "cell_type": "markdown",
      "metadata": {
        "id": "j8RwfcrEg2k5"
      },
      "source": [
        "## **Preparando os dados para a rede neural recorrente**"
      ]
    },
    {
      "cell_type": "code",
      "metadata": {
        "id": "ph-s1KcJPSsa"
      },
      "source": [
        "# Como as redes recorrentes utilizam dados no tempo T e valores passados (T-n), \n",
        "#a entrada da rede deve conter os valores presentes e os (T-n). \n",
        "# Assim, é necessário realizar uma modificação nos dados\n",
        "features_set = []  \n",
        "labels = []  \n",
        "for i in range(60, 10249):  \n",
        "    features_set.append(dados_normalizados[i-60:i, 0])\n",
        "    labels.append(dados_normalizados[i, 0])"
      ],
      "execution_count": null,
      "outputs": []
    },
    {
      "cell_type": "code",
      "metadata": {
        "id": "IlfLTYKOdhmw"
      },
      "source": [
        "#transformando os dados em um array para serem utilizados como entrada\n",
        "features_set, labels = np.array(features_set), np.array(labels)  "
      ],
      "execution_count": null,
      "outputs": []
    },
    {
      "cell_type": "code",
      "metadata": {
        "id": "rt_20I0ojB_C",
        "colab": {
          "base_uri": "https://localhost:8080/"
        },
        "outputId": "9251cd49-05e9-4efc-ac2e-830e51ee853a"
      },
      "source": [
        "#conferindo a dimensão dos dados\n",
        "print(features_set.shape) # método utilizado para retornar a dimensão dos dados\n",
        "print(labels.shape)"
      ],
      "execution_count": null,
      "outputs": [
        {
          "output_type": "stream",
          "name": "stdout",
          "text": [
            "(10189, 60)\n",
            "(10189,)\n"
          ]
        }
      ]
    },
    {
      "cell_type": "code",
      "metadata": {
        "id": "D75_NAT7kFT4",
        "colab": {
          "base_uri": "https://localhost:8080/"
        },
        "outputId": "fb98bd1f-2621-425e-dce6-4d9df238d0fd"
      },
      "source": [
        "#transformando os dados para o formato aceito pelas redes recorrentes do Keras\n",
        "# 1 - formato em 3D\n",
        "# (a,b,c) -> a = número de linhas do dataset\n",
        "#         -> b = número de steps (entradas) da rede\n",
        "#         -> c = número de saídas (indicators)\n",
        "\n",
        "# método da biblioteca numpy que é utilizado para converter os dados de entrada (1199,60) em (1199,60,1)\n",
        "features_set = np.reshape(features_set, (features_set.shape[0], features_set.shape[1], 1))  # \n",
        "print(features_set.shape)"
      ],
      "execution_count": null,
      "outputs": [
        {
          "output_type": "stream",
          "name": "stdout",
          "text": [
            "(10189, 60, 1)\n"
          ]
        }
      ]
    },
    {
      "cell_type": "markdown",
      "metadata": {
        "id": "BoDXcg6OhDga"
      },
      "source": [
        "## **Import's**"
      ]
    },
    {
      "cell_type": "code",
      "metadata": {
        "id": "mZpDWIatmG7m"
      },
      "source": [
        "from keras.models import Sequential  #classe utilizada para criar o modelo sequencial utilizando o keras\n",
        "from keras.layers import Dense  # Classe utilizada para criar as camadas que são completamente conectadas\n",
        "from keras.layers import LSTM  # Classe para a rede recorrente utilizando Long Shor Term Memory\n",
        "from keras.layers import Dropout # Classe utilizada para a camada de dropout (utilizada para evitar o overfiting)"
      ],
      "execution_count": null,
      "outputs": []
    },
    {
      "cell_type": "markdown",
      "metadata": {
        "id": "mw7hPsLehNFZ"
      },
      "source": [
        "## **Montando as camadas da rede**"
      ]
    },
    {
      "cell_type": "code",
      "metadata": {
        "id": "u7-XIBlEmurs"
      },
      "source": [
        "model = Sequential()  # objeto para a criação do modelo keras sequencial\n",
        "model.add(LSTM(units=50, return_sequences=True, input_shape=(features_set.shape[1], 1)))  #cria a camada de entrada\n",
        "# como pode ser visto, ela é adicionada como uma pilha, cada nova camada é adicionada com o método add\n",
        "# na camada de entrada, é necessário definir o tamanho do vetor de entrada (input_shape)\n",
        "# units=50 indica que na camada de entrada devem existir 50 neurônios\n",
        "# return_sequences= True indica que devem ser adicionadas novas camadas"
      ],
      "execution_count": null,
      "outputs": []
    },
    {
      "cell_type": "code",
      "metadata": {
        "id": "NE8o5SiSn7wH"
      },
      "source": [
        "#adição da camada de dropout\n",
        "model.add(Dropout(0.2))  # o valor de 0.2 indica que 20% dos neurônios dessa camada serão perdidos para cada interação"
      ],
      "execution_count": null,
      "outputs": []
    },
    {
      "cell_type": "code",
      "metadata": {
        "id": "urnv6b3JoJwd"
      },
      "source": [
        "#Adicionando mais camadas ao modelo \n",
        "model.add(LSTM(units=50, return_sequences=True))  \n",
        "model.add(Dropout(0.2))\n",
        "\n",
        "model.add(LSTM(units=50, return_sequences=True))  \n",
        "model.add(Dropout(0.2))\n",
        "\n",
        "model.add(LSTM(units=50))  # como essa é a última camada LSTM utilizada, a variável return_sequences=False \n",
        "model.add(Dropout(0.2))  "
      ],
      "execution_count": null,
      "outputs": []
    },
    {
      "cell_type": "code",
      "metadata": {
        "id": "8ptBDLdiok70"
      },
      "source": [
        "#adiciona a camada de saída com apenas 1 neurônio, pois vamos realizar a previsão de apenas uma variável (Previsão do valor de abertura)\n",
        "model.add(Dense(units = 1))"
      ],
      "execution_count": null,
      "outputs": []
    },
    {
      "cell_type": "code",
      "metadata": {
        "id": "Qw3EcoiPoz6d",
        "colab": {
          "base_uri": "https://localhost:8080/"
        },
        "outputId": "37073406-9cd3-4a30-8e9f-6a2f2e3bec74"
      },
      "source": [
        "#comando utilizado para ver a configuração do nosso modelo\n",
        "model.summary()"
      ],
      "execution_count": null,
      "outputs": [
        {
          "output_type": "stream",
          "name": "stdout",
          "text": [
            "Model: \"sequential_1\"\n",
            "_________________________________________________________________\n",
            " Layer (type)                Output Shape              Param #   \n",
            "=================================================================\n",
            " lstm_4 (LSTM)               (None, 60, 50)            10400     \n",
            "                                                                 \n",
            " dropout_5 (Dropout)         (None, 60, 50)            0         \n",
            "                                                                 \n",
            " lstm_5 (LSTM)               (None, 60, 50)            20200     \n",
            "                                                                 \n",
            " dropout_6 (Dropout)         (None, 60, 50)            0         \n",
            "                                                                 \n",
            " lstm_6 (LSTM)               (None, 60, 50)            20200     \n",
            "                                                                 \n",
            " dropout_7 (Dropout)         (None, 60, 50)            0         \n",
            "                                                                 \n",
            " lstm_7 (LSTM)               (None, 50)                20200     \n",
            "                                                                 \n",
            " dropout_8 (Dropout)         (None, 50)                0         \n",
            "                                                                 \n",
            " dense_1 (Dense)             (None, 1)                 51        \n",
            "                                                                 \n",
            "=================================================================\n",
            "Total params: 71,051\n",
            "Trainable params: 71,051\n",
            "Non-trainable params: 0\n",
            "_________________________________________________________________\n"
          ]
        }
      ]
    },
    {
      "cell_type": "code",
      "metadata": {
        "id": "EpQa5EyWpDAl"
      },
      "source": [
        "#definição do tipo de função perda a ser utilizada e do tipo do otimizador \n",
        "# o otimizador é utilizado para minimizar a função perda\n",
        "# a função perda indica como deve ser calculado o erro do modelo (valor real - valor previsto)\n",
        "model.compile(optimizer = 'adam', loss = 'mean_squared_error')"
      ],
      "execution_count": null,
      "outputs": []
    },
    {
      "cell_type": "markdown",
      "metadata": {
        "id": "nsVVzNAOhYj4"
      },
      "source": [
        "## **Treinamento do modelo**"
      ]
    },
    {
      "cell_type": "code",
      "metadata": {
        "id": "JCcODp-zplRh",
        "colab": {
          "base_uri": "https://localhost:8080/"
        },
        "outputId": "44c0a34c-67bd-4071-8b3e-570cfdf76cbb"
      },
      "source": [
        "#treinamento do modelo\n",
        "model.fit(features_set, labels, epochs = 100, batch_size = 32)  \n",
        "# valores de entrada\n",
        "# saída\n",
        "# número épocas para o treinamento (vezes em que vamos realizar interações durante o treinamento)\n",
        "#batch_size = quantidade de dados utilizados por vez para realizar o treinamento"
      ],
      "execution_count": null,
      "outputs": [
        {
          "output_type": "stream",
          "name": "stdout",
          "text": [
            "Epoch 1/100\n",
            "319/319 [==============================] - 26s 60ms/step - loss: 0.0015\n",
            "Epoch 2/100\n",
            "319/319 [==============================] - 19s 59ms/step - loss: 5.0546e-04\n",
            "Epoch 3/100\n",
            "319/319 [==============================] - 19s 60ms/step - loss: 4.8561e-04\n",
            "Epoch 4/100\n",
            "319/319 [==============================] - 19s 60ms/step - loss: 3.9300e-04\n",
            "Epoch 5/100\n",
            "319/319 [==============================] - 19s 60ms/step - loss: 4.3484e-04\n",
            "Epoch 6/100\n",
            "319/319 [==============================] - 19s 60ms/step - loss: 3.6448e-04\n",
            "Epoch 7/100\n",
            "319/319 [==============================] - 19s 60ms/step - loss: 4.5223e-04\n",
            "Epoch 8/100\n",
            "319/319 [==============================] - 19s 60ms/step - loss: 3.5254e-04\n",
            "Epoch 9/100\n",
            "319/319 [==============================] - 19s 60ms/step - loss: 4.0772e-04\n",
            "Epoch 10/100\n",
            "319/319 [==============================] - 19s 60ms/step - loss: 3.1284e-04\n",
            "Epoch 11/100\n",
            "319/319 [==============================] - 19s 60ms/step - loss: 3.2142e-04\n",
            "Epoch 12/100\n",
            "319/319 [==============================] - 19s 60ms/step - loss: 3.2893e-04\n",
            "Epoch 13/100\n",
            "319/319 [==============================] - 19s 60ms/step - loss: 3.1208e-04\n",
            "Epoch 14/100\n",
            "319/319 [==============================] - 19s 60ms/step - loss: 3.2192e-04\n",
            "Epoch 15/100\n",
            "319/319 [==============================] - 19s 60ms/step - loss: 3.0295e-04\n",
            "Epoch 16/100\n",
            "319/319 [==============================] - 19s 60ms/step - loss: 2.7675e-04\n",
            "Epoch 17/100\n",
            "319/319 [==============================] - 19s 60ms/step - loss: 3.3785e-04\n",
            "Epoch 18/100\n",
            "319/319 [==============================] - 19s 60ms/step - loss: 3.5690e-04\n",
            "Epoch 19/100\n",
            "319/319 [==============================] - 19s 60ms/step - loss: 2.9013e-04\n",
            "Epoch 20/100\n",
            "319/319 [==============================] - 19s 60ms/step - loss: 2.9320e-04\n",
            "Epoch 21/100\n",
            "319/319 [==============================] - 19s 60ms/step - loss: 2.6882e-04\n",
            "Epoch 22/100\n",
            "319/319 [==============================] - 19s 60ms/step - loss: 2.9658e-04\n",
            "Epoch 23/100\n",
            "319/319 [==============================] - 19s 60ms/step - loss: 3.2770e-04\n",
            "Epoch 24/100\n",
            "319/319 [==============================] - 19s 60ms/step - loss: 3.3855e-04\n",
            "Epoch 25/100\n",
            "319/319 [==============================] - 19s 60ms/step - loss: 2.6296e-04\n",
            "Epoch 26/100\n",
            "319/319 [==============================] - 19s 60ms/step - loss: 2.8294e-04\n",
            "Epoch 27/100\n",
            "319/319 [==============================] - 19s 60ms/step - loss: 2.6539e-04\n",
            "Epoch 28/100\n",
            "319/319 [==============================] - 19s 60ms/step - loss: 2.7269e-04\n",
            "Epoch 29/100\n",
            "319/319 [==============================] - 19s 60ms/step - loss: 2.5032e-04\n",
            "Epoch 30/100\n",
            "319/319 [==============================] - 19s 60ms/step - loss: 3.2436e-04\n",
            "Epoch 31/100\n",
            "319/319 [==============================] - 19s 60ms/step - loss: 2.9937e-04\n",
            "Epoch 32/100\n",
            "319/319 [==============================] - 19s 60ms/step - loss: 2.9257e-04\n",
            "Epoch 33/100\n",
            "319/319 [==============================] - 19s 60ms/step - loss: 2.8062e-04\n",
            "Epoch 34/100\n",
            "319/319 [==============================] - 19s 60ms/step - loss: 2.5727e-04\n",
            "Epoch 35/100\n",
            "319/319 [==============================] - 19s 60ms/step - loss: 2.6763e-04\n",
            "Epoch 36/100\n",
            "319/319 [==============================] - 19s 60ms/step - loss: 2.8097e-04\n",
            "Epoch 37/100\n",
            "319/319 [==============================] - 19s 60ms/step - loss: 2.3804e-04\n",
            "Epoch 38/100\n",
            "319/319 [==============================] - 19s 60ms/step - loss: 2.4791e-04\n",
            "Epoch 39/100\n",
            "319/319 [==============================] - 19s 60ms/step - loss: 2.7945e-04\n",
            "Epoch 40/100\n",
            "319/319 [==============================] - 19s 60ms/step - loss: 2.3099e-04\n",
            "Epoch 41/100\n",
            "319/319 [==============================] - 19s 60ms/step - loss: 2.1794e-04\n",
            "Epoch 42/100\n",
            "319/319 [==============================] - 19s 60ms/step - loss: 2.4075e-04\n",
            "Epoch 43/100\n",
            "319/319 [==============================] - 19s 60ms/step - loss: 2.2497e-04\n",
            "Epoch 44/100\n",
            "319/319 [==============================] - 19s 60ms/step - loss: 2.5297e-04\n",
            "Epoch 45/100\n",
            "319/319 [==============================] - 19s 60ms/step - loss: 2.5579e-04\n",
            "Epoch 46/100\n",
            "319/319 [==============================] - 19s 60ms/step - loss: 2.3950e-04\n",
            "Epoch 47/100\n",
            "319/319 [==============================] - 19s 60ms/step - loss: 2.3432e-04\n",
            "Epoch 48/100\n",
            "319/319 [==============================] - 19s 60ms/step - loss: 2.6744e-04\n",
            "Epoch 49/100\n",
            "319/319 [==============================] - 19s 60ms/step - loss: 2.4816e-04\n",
            "Epoch 50/100\n",
            "319/319 [==============================] - 19s 60ms/step - loss: 2.6139e-04\n",
            "Epoch 51/100\n",
            "319/319 [==============================] - 19s 60ms/step - loss: 2.3399e-04\n",
            "Epoch 52/100\n",
            "319/319 [==============================] - 19s 60ms/step - loss: 2.6160e-04\n",
            "Epoch 53/100\n",
            "319/319 [==============================] - 19s 60ms/step - loss: 2.5704e-04\n",
            "Epoch 54/100\n",
            "319/319 [==============================] - 19s 60ms/step - loss: 2.3326e-04\n",
            "Epoch 55/100\n",
            "319/319 [==============================] - 19s 60ms/step - loss: 2.5079e-04\n",
            "Epoch 56/100\n",
            "319/319 [==============================] - 19s 60ms/step - loss: 2.2421e-04\n",
            "Epoch 57/100\n",
            "319/319 [==============================] - 19s 60ms/step - loss: 2.4911e-04\n",
            "Epoch 58/100\n",
            "319/319 [==============================] - 19s 60ms/step - loss: 2.4037e-04\n",
            "Epoch 59/100\n",
            "319/319 [==============================] - 19s 60ms/step - loss: 2.6152e-04\n",
            "Epoch 60/100\n",
            "319/319 [==============================] - 19s 60ms/step - loss: 2.2839e-04\n",
            "Epoch 61/100\n",
            "319/319 [==============================] - 19s 60ms/step - loss: 2.6195e-04\n",
            "Epoch 62/100\n",
            "319/319 [==============================] - 19s 60ms/step - loss: 2.2027e-04\n",
            "Epoch 63/100\n",
            "319/319 [==============================] - 19s 60ms/step - loss: 2.3955e-04\n",
            "Epoch 64/100\n",
            "319/319 [==============================] - 19s 60ms/step - loss: 2.1292e-04\n",
            "Epoch 65/100\n",
            "319/319 [==============================] - 19s 60ms/step - loss: 2.1148e-04\n",
            "Epoch 66/100\n",
            "319/319 [==============================] - 19s 60ms/step - loss: 2.3955e-04\n",
            "Epoch 67/100\n",
            "319/319 [==============================] - 19s 60ms/step - loss: 2.1306e-04\n",
            "Epoch 68/100\n",
            "319/319 [==============================] - 19s 60ms/step - loss: 2.1086e-04\n",
            "Epoch 69/100\n",
            "319/319 [==============================] - 19s 60ms/step - loss: 2.2543e-04\n",
            "Epoch 70/100\n",
            "319/319 [==============================] - 19s 60ms/step - loss: 2.2329e-04\n",
            "Epoch 71/100\n",
            "319/319 [==============================] - 19s 60ms/step - loss: 2.2518e-04\n",
            "Epoch 72/100\n",
            "319/319 [==============================] - 19s 60ms/step - loss: 2.2408e-04\n",
            "Epoch 73/100\n",
            "319/319 [==============================] - 19s 60ms/step - loss: 2.0403e-04\n",
            "Epoch 74/100\n",
            "319/319 [==============================] - 19s 60ms/step - loss: 2.1860e-04\n",
            "Epoch 75/100\n",
            "319/319 [==============================] - 19s 61ms/step - loss: 2.4864e-04\n",
            "Epoch 76/100\n",
            "319/319 [==============================] - 19s 60ms/step - loss: 2.0270e-04\n",
            "Epoch 77/100\n",
            "319/319 [==============================] - 19s 60ms/step - loss: 2.2335e-04\n",
            "Epoch 78/100\n",
            "319/319 [==============================] - 19s 60ms/step - loss: 2.2883e-04\n",
            "Epoch 79/100\n",
            "319/319 [==============================] - 19s 60ms/step - loss: 2.2959e-04\n",
            "Epoch 80/100\n",
            "319/319 [==============================] - 19s 60ms/step - loss: 2.0165e-04\n",
            "Epoch 81/100\n",
            "319/319 [==============================] - 19s 60ms/step - loss: 2.2206e-04\n",
            "Epoch 82/100\n",
            "319/319 [==============================] - 19s 60ms/step - loss: 2.0238e-04\n",
            "Epoch 83/100\n",
            "319/319 [==============================] - 19s 60ms/step - loss: 2.1794e-04\n",
            "Epoch 84/100\n",
            "319/319 [==============================] - 19s 60ms/step - loss: 2.1999e-04\n",
            "Epoch 85/100\n",
            "319/319 [==============================] - 19s 60ms/step - loss: 2.0547e-04\n",
            "Epoch 86/100\n",
            "319/319 [==============================] - 19s 60ms/step - loss: 2.1843e-04\n",
            "Epoch 87/100\n",
            "319/319 [==============================] - 19s 60ms/step - loss: 2.4031e-04\n",
            "Epoch 88/100\n",
            "319/319 [==============================] - 19s 60ms/step - loss: 2.1595e-04\n",
            "Epoch 89/100\n",
            "319/319 [==============================] - 19s 60ms/step - loss: 2.0140e-04\n",
            "Epoch 90/100\n",
            "319/319 [==============================] - 19s 60ms/step - loss: 2.5161e-04\n",
            "Epoch 91/100\n",
            "319/319 [==============================] - 19s 60ms/step - loss: 2.0205e-04\n",
            "Epoch 92/100\n",
            "319/319 [==============================] - 19s 60ms/step - loss: 2.0517e-04\n",
            "Epoch 93/100\n",
            "319/319 [==============================] - 19s 60ms/step - loss: 1.9798e-04\n",
            "Epoch 94/100\n",
            "319/319 [==============================] - 19s 60ms/step - loss: 2.4549e-04\n",
            "Epoch 95/100\n",
            "319/319 [==============================] - 19s 60ms/step - loss: 2.0443e-04\n",
            "Epoch 96/100\n",
            "319/319 [==============================] - 19s 60ms/step - loss: 2.1025e-04\n",
            "Epoch 97/100\n",
            "319/319 [==============================] - 19s 60ms/step - loss: 2.0694e-04\n",
            "Epoch 98/100\n",
            "319/319 [==============================] - 19s 60ms/step - loss: 2.0686e-04\n",
            "Epoch 99/100\n",
            "319/319 [==============================] - 19s 60ms/step - loss: 2.0219e-04\n",
            "Epoch 100/100\n",
            "319/319 [==============================] - 19s 61ms/step - loss: 2.0284e-04\n"
          ]
        },
        {
          "output_type": "execute_result",
          "data": {
            "text/plain": [
              "<keras.callbacks.History at 0x7fed6f6cf990>"
            ]
          },
          "metadata": {},
          "execution_count": 53
        }
      ]
    },
    {
      "cell_type": "markdown",
      "metadata": {
        "id": "YTJx99I0hcLI"
      },
      "source": [
        "## **Teste e validação do modelo criado**"
      ]
    },
    {
      "cell_type": "markdown",
      "metadata": {
        "id": "2c1OGVQuhmbk"
      },
      "source": [
        "## Carregando os dados de teste"
      ]
    },
    {
      "cell_type": "code",
      "metadata": {
        "id": "A7jZA_JyzwwH"
      },
      "source": [
        "data_test = pd.read_csv('/content/drive/MyDrive/Colab Notebooks/Data_Science_Projects/PREVISÃO VALOR AÇÕES APPLE (ABERTURA)/AAPL_previsao.csv') # utilizado para importar o arquivo CSV que contém o banco de dados para teste"
      ],
      "execution_count": null,
      "outputs": []
    },
    {
      "cell_type": "code",
      "metadata": {
        "id": "6RZd0yZwz7S8",
        "colab": {
          "base_uri": "https://localhost:8080/",
          "height": 206
        },
        "outputId": "9a293fc0-9865-4c47-d3f7-d9478dee070a"
      },
      "source": [
        "data_test.head() #verifica as 5 primeiras linhas do dataframe utilizado para teste"
      ],
      "execution_count": null,
      "outputs": [
        {
          "output_type": "execute_result",
          "data": {
            "text/html": [
              "<div>\n",
              "<style scoped>\n",
              "    .dataframe tbody tr th:only-of-type {\n",
              "        vertical-align: middle;\n",
              "    }\n",
              "\n",
              "    .dataframe tbody tr th {\n",
              "        vertical-align: top;\n",
              "    }\n",
              "\n",
              "    .dataframe thead th {\n",
              "        text-align: right;\n",
              "    }\n",
              "</style>\n",
              "<table border=\"1\" class=\"dataframe\">\n",
              "  <thead>\n",
              "    <tr style=\"text-align: right;\">\n",
              "      <th></th>\n",
              "      <th>Date</th>\n",
              "      <th>Open</th>\n",
              "      <th>High</th>\n",
              "      <th>Low</th>\n",
              "      <th>Close</th>\n",
              "      <th>Adj Close</th>\n",
              "      <th>Volume</th>\n",
              "    </tr>\n",
              "  </thead>\n",
              "  <tbody>\n",
              "    <tr>\n",
              "      <th>0</th>\n",
              "      <td>2019-01-02</td>\n",
              "      <td>154.889999</td>\n",
              "      <td>158.850006</td>\n",
              "      <td>154.229996</td>\n",
              "      <td>157.919998</td>\n",
              "      <td>154.794983</td>\n",
              "      <td>37039700</td>\n",
              "    </tr>\n",
              "    <tr>\n",
              "      <th>1</th>\n",
              "      <td>2019-01-03</td>\n",
              "      <td>143.979996</td>\n",
              "      <td>145.720001</td>\n",
              "      <td>142.000000</td>\n",
              "      <td>142.190002</td>\n",
              "      <td>139.376251</td>\n",
              "      <td>91312200</td>\n",
              "    </tr>\n",
              "    <tr>\n",
              "      <th>2</th>\n",
              "      <td>2019-01-04</td>\n",
              "      <td>144.529999</td>\n",
              "      <td>148.550003</td>\n",
              "      <td>143.800003</td>\n",
              "      <td>148.259995</td>\n",
              "      <td>145.326126</td>\n",
              "      <td>58607100</td>\n",
              "    </tr>\n",
              "    <tr>\n",
              "      <th>3</th>\n",
              "      <td>2019-01-07</td>\n",
              "      <td>148.699997</td>\n",
              "      <td>148.830002</td>\n",
              "      <td>145.899994</td>\n",
              "      <td>147.929993</td>\n",
              "      <td>145.002686</td>\n",
              "      <td>54777800</td>\n",
              "    </tr>\n",
              "    <tr>\n",
              "      <th>4</th>\n",
              "      <td>2019-01-08</td>\n",
              "      <td>149.559998</td>\n",
              "      <td>151.820007</td>\n",
              "      <td>148.520004</td>\n",
              "      <td>150.750000</td>\n",
              "      <td>147.766861</td>\n",
              "      <td>41025300</td>\n",
              "    </tr>\n",
              "  </tbody>\n",
              "</table>\n",
              "</div>"
            ],
            "text/plain": [
              "         Date        Open        High  ...       Close   Adj Close    Volume\n",
              "0  2019-01-02  154.889999  158.850006  ...  157.919998  154.794983  37039700\n",
              "1  2019-01-03  143.979996  145.720001  ...  142.190002  139.376251  91312200\n",
              "2  2019-01-04  144.529999  148.550003  ...  148.259995  145.326126  58607100\n",
              "3  2019-01-07  148.699997  148.830002  ...  147.929993  145.002686  54777800\n",
              "4  2019-01-08  149.559998  151.820007  ...  150.750000  147.766861  41025300\n",
              "\n",
              "[5 rows x 7 columns]"
            ]
          },
          "metadata": {},
          "execution_count": 55
        }
      ]
    },
    {
      "cell_type": "markdown",
      "metadata": {
        "id": "sgScvdu5hrjc"
      },
      "source": [
        "## Plot dos dados de teste"
      ]
    },
    {
      "cell_type": "code",
      "metadata": {
        "id": "PfwaPDLr0DYY",
        "colab": {
          "base_uri": "https://localhost:8080/",
          "height": 282
        },
        "outputId": "fcd48fd9-64ba-42f5-9368-b97184bde046"
      },
      "source": [
        "plt.plot(data_test.Date,data_test.Open) #plot para os dados a serem utilizados como teste"
      ],
      "execution_count": null,
      "outputs": [
        {
          "output_type": "execute_result",
          "data": {
            "text/plain": [
              "[<matplotlib.lines.Line2D at 0x7fed69a9bb50>]"
            ]
          },
          "metadata": {},
          "execution_count": 56
        },
        {
          "output_type": "display_data",
          "data": {
            "image/png": "[encoded data removed]",
            "text/plain": [
              "<Figure size 432x288 with 1 Axes>"
            ]
          },
          "metadata": {
            "needs_background": "light"
          }
        }
      ]
    },
    {
      "cell_type": "markdown",
      "metadata": {
        "id": "CbRo3AR5hzS_"
      },
      "source": [
        "## **Preparando os dados de teste**"
      ]
    },
    {
      "cell_type": "code",
      "metadata": {
        "id": "d_Aep4V63P1o"
      },
      "source": [
        "df_data_apple=data_test.iloc[:, 1:2].values"
      ],
      "execution_count": null,
      "outputs": []
    },
    {
      "cell_type": "code",
      "metadata": {
        "id": "aSRHQY9S0SVl"
      },
      "source": [
        "df_data_apple = pd.concat((data['Open'], data_test['Open']), axis=0)  # concatena os dados utilizados para teste e os utilizados para treinamento, tudo em um mesmo dataframe de 1 coluna\n"
      ],
      "execution_count": null,
      "outputs": []
    },
    {
      "cell_type": "code",
      "metadata": {
        "id": "vxl-jhdZ0wN3",
        "colab": {
          "base_uri": "https://localhost:8080/"
        },
        "outputId": "16ef12eb-d6e6-49ad-94e0-30961bc74193"
      },
      "source": [
        "df_data_apple.head()"
      ],
      "execution_count": null,
      "outputs": [
        {
          "output_type": "execute_result",
          "data": {
            "text/plain": [
              "0    0.128348\n",
              "1    0.122210\n",
              "2    0.113281\n",
              "3    0.115513\n",
              "4    0.118862\n",
              "Name: Open, dtype: float64"
            ]
          },
          "metadata": {},
          "execution_count": 59
        }
      ]
    },
    {
      "cell_type": "code",
      "metadata": {
        "id": "cHguzy2S06t6"
      },
      "source": [
        "test_inputs = df_data_apple[len(df_data_apple) - len(data_test) - 60:].values  \n"
      ],
      "execution_count": null,
      "outputs": []
    },
    {
      "cell_type": "markdown",
      "metadata": {
        "id": "vfriQV-gh2_j"
      },
      "source": [
        "## Normalizando os dados de teste"
      ]
    },
    {
      "cell_type": "code",
      "metadata": {
        "id": "ZdyRMTYJ1l0v"
      },
      "source": [
        "#normalização dos dados para teste, como fizemos com os dados de treinamento\n",
        "test_inputs = test_inputs.reshape(-1,1)  \n",
        "test_inputs = scaler.transform(test_inputs)  "
      ],
      "execution_count": null,
      "outputs": []
    },
    {
      "cell_type": "code",
      "metadata": {
        "id": "W5JCdLpd1tuq"
      },
      "source": [
        "#preparação dos 60 dados a serem utilizado\n",
        "test_features = []  \n",
        "for i in range(60, 80):  \n",
        "    test_features.append(test_inputs[i-60:i, 0])"
      ],
      "execution_count": null,
      "outputs": []
    },
    {
      "cell_type": "code",
      "metadata": {
        "id": "ZS-mnPqk19LM"
      },
      "source": [
        "#preparando os dados como entrada para o modelo de previsão \n",
        "test_features = np.array(test_features)  \n",
        "test_features = np.reshape(test_features, (test_features.shape[0], test_features.shape[1], 1)) "
      ],
      "execution_count": null,
      "outputs": []
    },
    {
      "cell_type": "code",
      "metadata": {
        "id": "hio5Vu8T2EOS"
      },
      "source": [
        "#previsão utilizando o modelo gerado \n",
        "previsao = model.predict(test_features)  "
      ],
      "execution_count": null,
      "outputs": []
    },
    {
      "cell_type": "code",
      "metadata": {
        "id": "O2tSI9Uj2NGF"
      },
      "source": [
        "#inverte a transformação (normalização) dos dados de previsão\n",
        "previsao = scaler.inverse_transform(previsao)"
      ],
      "execution_count": null,
      "outputs": []
    },
    {
      "cell_type": "code",
      "metadata": {
        "id": "p1hylx6yCxLy",
        "colab": {
          "base_uri": "https://localhost:8080/",
          "height": 404
        },
        "outputId": "dd148239-1736-477b-d7cf-030f7df53ae6"
      },
      "source": [
        "#plot do resultado da previsão e do real\n",
        "plt.figure(figsize=(10,6))  \n",
        "plt.plot(data_test.Open, color='blue', label='Preço Real das Ações da Apple')  \n",
        "plt.plot(previsao , color='red', label='Previsão do Preço das Ações da Apple')  \n",
        "plt.title('Previsão do Preço de Abertura das Ações da Apple')  \n",
        "plt.xlabel('Data')  \n",
        "plt.ylabel('Preço')  \n",
        "plt.legend()  \n",
        "plt.show() "
      ],
      "execution_count": null,
      "outputs": [
        {
          "output_type": "display_data",
          "data": {
            "image/png": "[encoded data removed]",
            "text/plain": [
              "<Figure size 720x432 with 1 Axes>"
            ]
          },
          "metadata": {
            "needs_background": "light"
          }
        }
      ]
    }
  ]
}